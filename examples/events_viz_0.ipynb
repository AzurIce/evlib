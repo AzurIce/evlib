{
 "cells": [
  {
   "cell_type": "markdown",
   "metadata": {},
   "source": [
    "# Event-data Representation and Visualization\n",
    "\n",
    "The **goals** of this exercise are:\n",
    "- to familiarize yourself with the data produced by an event-based camera\n",
    "- to practice converting the event data into image-like (also called \"grid-based\" or \"array-based\") representations, which is a common practice of many algorithms (without judging whether it is \"optimal\" or not).\n",
    "- to produce \"pretty plots\" (never underestimate the value of good figures on reports and papers)."
   ]
  },
  {
   "cell_type": "code",
   "execution_count": null,
   "metadata": {},
   "outputs": [],
   "source": [
    "import os\n",
    "import numpy as np\n",
    "from matplotlib import pyplot as plt\n",
    "from mpl_toolkits.mplot3d import Axes3D"
   ]
  },
  {
   "cell_type": "code",
   "execution_count": null,
   "metadata": {},
   "outputs": [],
   "source": [
    "# Simple code to read event data\n",
    "def extract_data(filename):\n",
    "    infile = open(filename, 'r')\n",
    "    timestamp = []\n",
    "    x = []\n",
    "    y = []\n",
    "    pol = []\n",
    "    for line in infile:\n",
    "        words = line.split()\n",
    "        timestamp.append(float(words[0]))\n",
    "        x.append(int(words[1]))\n",
    "        y.append(int(words[2]))\n",
    "        pol.append(int(words[3]))\n",
    "    infile.close()\n",
    "    return timestamp,x,y,pol"
   ]
  },
  {
   "cell_type": "code",
   "execution_count": null,
   "metadata": {},
   "outputs": [],
   "source": [
    "# Load event data\n",
    "filename_sub = '../data/slider_depth/events_chunk.txt'\n",
    "timestamp, x, y, pol = extract_data(filename_sub)\n",
    "img_size = (180,240)\n",
    "height, width = img_size\n",
    "print(f\"Loaded {len(timestamp)} events\")"
   ]
  },
  {
   "cell_type": "markdown",
   "metadata": {},
   "source": [
    "## Task 1: Event Histogram (Balance of Polarities)"
   ]
  },
  {
   "cell_type": "code",
   "execution_count": null,
   "metadata": {},
   "outputs": [],
   "source": "# Create a histogram of events (Event count) - first 5000 events\nN_e = 5000\n\n# Initialize histogram array\nevent_histogram = np.zeros((height, width), dtype=int)\n\n# Accumulate events pixel-wise with polarities\nfor i in range(min(N_e, len(x))):\n    pixel_x = x[i]\n    pixel_y = y[i]\n    polarity = pol[i]\n    \n    # Convert polarity: 1 -> +1, 0 -> -1\n    polarity_value = 1 if polarity == 1 else -1\n    event_histogram[pixel_y, pixel_x] += polarity_value\n\n# Plot the histogram as grayscale image\nplt.figure(figsize=(10, 6))\nplt.imshow(event_histogram, cmap='gray', interpolation='nearest')\nplt.colorbar(label='Balance of polarities')\nplt.title(f'Event Histogram - Balance of Polarities (first {N_e} events)')\nplt.xlabel('x (pixels)')\nplt.ylabel('y (pixels)')\nplt.show()\n\n# Print statistics for analysis\nmax_pos = np.max(event_histogram)\nmin_neg = np.min(event_histogram)"
  },
  {
   "cell_type": "markdown",
   "metadata": {},
   "source": [
    "### Questions and Answers"
   ]
  },
  {
   "cell_type": "code",
   "execution_count": null,
   "metadata": {},
   "outputs": [],
   "source": [
    "print(\"Q: What do the 'three colors' in the image represent?\")\n",
    "print(\"A: The three colors represent:\")\n",
    "print(\"   - Dark pixels: More negative events (polarity 0) than positive events\")\n",
    "print(\"   - Gray pixels: Balanced events or no events (zero balance)\")\n",
    "print(\"   - Bright pixels: More positive events (polarity 1) than negative events\")\n",
    "print(\"Q: What could such an image be used for?\")\n",
    "print(\"A: Edge detection, motion analysis, feature extraction, noise filtering, object tracking\")"
   ]
  },
  {
   "cell_type": "markdown",
   "metadata": {},
   "source": [
    "## Task 2: Pseudocolor Visualization"
   ]
  },
  {
   "cell_type": "code",
   "execution_count": null,
   "metadata": {},
   "outputs": [],
   "source": "# Create pseudocolor visualization (red for positive, blue for negative)\nplt.figure(figsize=(10, 6))\n\n# Create RGB image\nrgb_image = np.zeros((height, width, 3))\n\n# Red channel for positive events, blue channel for negative events\npos_mask = event_histogram > 0\nneg_mask = event_histogram < 0\n\n# Normalize for visualization\nmax_abs = max(abs(np.max(event_histogram)), abs(np.min(event_histogram)))\n\nif max_abs > 0:\n    # Red for positive events\n    rgb_image[pos_mask, 0] = event_histogram[pos_mask] / max_abs\n    # Blue for negative events  \n    rgb_image[neg_mask, 2] = -event_histogram[neg_mask] / max_abs\n\nplt.imshow(rgb_image)\nplt.title(f'Pseudocolor Event Histogram (Red=Positive, Blue=Negative, first {N_e} events)')\nplt.xlabel('x (pixels)')\nplt.ylabel('y (pixels)')\nplt.show()\n\nprint(\"Red=Positive events, Blue=Negative events, White=No events\")"
  },
  {
   "cell_type": "markdown",
   "metadata": {},
   "source": [
    "## Task 3: Time Surface with Exponential Decay"
   ]
  },
  {
   "cell_type": "code",
   "execution_count": null,
   "metadata": {},
   "outputs": [],
   "source": "# Time surface with exponential decay implementation\nN_e_time = min(50000, len(timestamp))\ntau = 0.030  # 30 ms decay constant\n\n# Initialize time surfaces\nlast_timestamp_combined = np.zeros((height, width))\nlast_timestamp_pos = np.zeros((height, width))\nlast_timestamp_neg = np.zeros((height, width))\n\n# Process events\nfor i in range(N_e_time):\n    pixel_x = x[i]  \n    pixel_y = y[i]\n    polarity = pol[i]\n    t = timestamp[i]\n    \n    # Update combined time surface\n    last_timestamp_combined[pixel_y, pixel_x] = t\n    \n    # Update polarity-specific time surfaces\n    if polarity == 1:\n        last_timestamp_pos[pixel_y, pixel_x] = t\n    else:\n        last_timestamp_neg[pixel_y, pixel_x] = t\n\n# Get the last timestamp for reference\nt_current = timestamp[N_e_time - 1]\n\n# Compute exponential decay time surfaces\ntime_surface_combined = np.exp(-np.abs(t_current - last_timestamp_combined) / tau)\ntime_surface_pos = np.exp(-np.abs(t_current - last_timestamp_pos) / tau)\ntime_surface_neg = np.exp(-np.abs(t_current - last_timestamp_neg) / tau)\n\n# Plot time surfaces\nplt.figure(figsize=(15, 5))\n\nplt.subplot(1, 3, 1)\nplt.imshow(time_surface_combined, cmap='hot', interpolation='nearest')\nplt.colorbar(label='Decay Value')\nplt.title(f'Time Surface - Combined (τ={tau*1000:.0f}ms)')\n\nplt.subplot(1, 3, 2)\nplt.imshow(time_surface_pos, cmap='hot', interpolation='nearest')\nplt.colorbar(label='Decay Value')\nplt.title(f'Time Surface - Positive Events')\n\nplt.subplot(1, 3, 3)\nplt.imshow(time_surface_neg, cmap='hot', interpolation='nearest')\nplt.colorbar(label='Decay Value')\nplt.title(f'Time Surface - Negative Events')\n\nplt.tight_layout()\nplt.show()"
  },
  {
   "cell_type": "markdown",
   "metadata": {},
   "source": [
    "## Task 4: 3D Space-Time Visualization"
   ]
  },
  {
   "cell_type": "code",
   "execution_count": null,
   "metadata": {},
   "outputs": [],
   "source": "# 3D Space-time point cloud visualization\nN_e_3d = 2000\n\n# Extract coordinates and polarities for the first N_e_3d events\nx_3d = np.array(x[:N_e_3d])\ny_3d = np.array(y[:N_e_3d])\nt_3d = np.array(timestamp[:N_e_3d])\npol_3d = np.array(pol[:N_e_3d])\n\n# Normalize time for better visualization\nt_3d_norm = (t_3d - t_3d[0]) * 1000  # Convert to milliseconds from start\n\n# Create 3D scatter plot\nfig = plt.figure(figsize=(12, 8))\nax = fig.add_subplot(111, projection='3d')\n\n# Color points by polarity: red for positive (1), blue for negative (0)\ncolors = ['blue' if p == 0 else 'red' for p in pol_3d]\n\n# Create scatter plot\nscatter = ax.scatter(x_3d, y_3d, t_3d_norm, c=colors, alpha=0.6, s=1)\n\n# Set labels and title\nax.set_xlabel('x (pixels)')\nax.set_ylabel('y (pixels)')\nax.set_zlabel('Time (ms)')\nax.set_title(f'3D Space-Time Point Cloud (first {N_e_3d} events)\\nRed=Positive, Blue=Negative')\n\n# Set viewing angle for better visualization\nax.view_init(azim=45, elev=20)\n\nplt.tight_layout()\nplt.show()\n\nprint(\"3D visualization reveals spatio-temporal structure of events\")"
  },
  {
   "cell_type": "markdown",
   "metadata": {},
   "source": [
    "## Task 5: Voxel Grid Representation"
   ]
  },
  {
   "cell_type": "code",
   "execution_count": null,
   "metadata": {},
   "outputs": [],
   "source": "# Voxel grid representation implementation\nN_e_voxel = min(20000, len(timestamp))\nn_time_bins = 5\n\n# Get time range for the events\nt_min = timestamp[0]\nt_max = timestamp[N_e_voxel - 1]\n\n# Create bins\nx_bins = np.arange(0, width + 1)\ny_bins = np.arange(0, height + 1) \nt_bins = np.linspace(t_min, t_max, n_time_bins + 1)\n\n# Extract data for histogramming\nx_voxel = np.array(x[:N_e_voxel])\ny_voxel = np.array(y[:N_e_voxel])\nt_voxel = np.array(timestamp[:N_e_voxel])\n\n# Create 3D histogram using numpy\nhist_3d, edges = np.histogramdd([x_voxel, y_voxel, t_voxel], bins=[x_bins, y_bins, t_bins])\n\n# Count occupied voxels\noccupied_voxels = np.sum(hist_3d > 0)\ntotal_voxels = hist_3d.size\nsparsity_ratio = occupied_voxels / total_voxels\n\nprint(f\"Occupied voxels: {occupied_voxels}\")\nprint(f\"Total voxels: {total_voxels}\")\nprint(f\"Sparsity ratio: {sparsity_ratio:.4f}\")"
  },
  {
   "cell_type": "markdown",
   "metadata": {},
   "source": [
    "## Task 6: Experimental Visualizations"
   ]
  },
  {
   "cell_type": "code",
   "execution_count": null,
   "metadata": {},
   "outputs": [],
   "source": "# Experimental visualization: Event density heatmap\n\ndensity_map = np.zeros((height, width))\ngaussian_sigma = 2.0\n\nfor i in range(min(N_e, len(x))):\n    pixel_x = x[i]\n    pixel_y = y[i]\n    \n    # Add Gaussian blob around each event\n    y_range = np.arange(max(0, int(pixel_y - 3*gaussian_sigma)), \n                       min(height, int(pixel_y + 3*gaussian_sigma + 1)))\n    x_range = np.arange(max(0, int(pixel_x - 3*gaussian_sigma)), \n                       min(width, int(pixel_x + 3*gaussian_sigma + 1)))\n    \n    for py in y_range:\n        for px in x_range:\n            distance_sq = (px - pixel_x)**2 + (py - pixel_y)**2\n            weight = np.exp(-distance_sq / (2 * gaussian_sigma**2))\n            density_map[py, px] += weight\n\nplt.figure(figsize=(12, 5))\n\nplt.subplot(1, 2, 1)\nplt.imshow(density_map, cmap='hot', interpolation='bilinear')\nplt.colorbar(label='Event Density')\nplt.title('Event Density Heatmap (Gaussian Smoothing)')\nplt.xlabel('x (pixels)')\nplt.ylabel('y (pixels)')\n\n# Temporal activity profile\ntime_bins_profile = np.linspace(timestamp[0], timestamp[min(N_e, len(timestamp))-1], 100)\nactivity_profile = np.histogram(timestamp[:N_e], bins=time_bins_profile)[0]\n\nplt.subplot(1, 2, 2)\nplt.plot((time_bins_profile[1:] - timestamp[0]) * 1000, activity_profile, 'b-', linewidth=2)\nplt.xlabel('Time (ms)')\nplt.ylabel('Event Count')\nplt.title('Temporal Activity Profile')\nplt.grid(True, alpha=0.3)\n\nplt.tight_layout()\nplt.show()"
  }
 ],
 "metadata": {
  "kernelspec": {
   "display_name": "Python 3",
   "language": "python",
   "name": "python3"
  },
  "language_info": {
   "codemirror_mode": {
    "name": "ipython",
    "version": 3
   },
   "file_extension": ".py",
   "mimetype": "text/x-python",
   "name": "python",
   "nbconvert_exporter": "python",
   "pygments_lexer": "ipython3",
   "version": "3.10.0"
  }
 },
 "nbformat": 4,
 "nbformat_minor": 4
}
