{
 "cells": [
  {
   "cell_type": "markdown",
   "metadata": {},
   "source": [
    "# evlib Unified Models API\n",
    "\n",
    "This notebook demonstrates the high-level unified API for event-to-video reconstruction models in evlib."
   ]
  },
  {
   "cell_type": "code",
   "execution_count": null,
   "metadata": {},
   "outputs": [],
   "source": [
    "import numpy as np\n",
    "import matplotlib.pyplot as plt\n",
    "from pathlib import Path\n",
    "import evlib\n",
    "from evlib import models\n",
    "\n",
    "# Set up plotting\n",
    "%matplotlib inline\n",
    "plt.rcParams['figure.dpi'] = 100"
   ]
  },
  {
   "cell_type": "markdown",
   "metadata": {},
   "source": [
    "## 1. Loading Event Data\n",
    "\n",
    "First, let's load some event data to work with."
   ]
  },
  {
   "cell_type": "code",
   "execution_count": null,
   "metadata": {},
   "outputs": [],
   "source": [
    "# Load events from file\n",
    "event_file = Path(\"../data/slider_depth/events.txt\")\n",
    "\n",
    "if event_file.exists():\n",
    "    xs, ys, ts, ps = evlib.formats.load_events_py(str(event_file))\n",
    "    # Use subset for faster processing\n",
    "    n = 10000\n",
    "    xs, ys, ts, ps = xs[:n], ys[:n], ts[:n], ps[:n]\n",
    "    print(f\"Loaded {n} events from file\")\n",
    "else:\n",
    "    # Generate synthetic events\n",
    "    print(\"Generating synthetic events\")\n",
    "    n = 10000\n",
    "    t = np.linspace(0, 1, n)\n",
    "    xs = (120 + 100 * np.sin(2 * np.pi * t)).astype(np.int64)\n",
    "    ys = (90 + 80 * np.cos(2 * np.pi * t)).astype(np.int64)\n",
    "    ps = np.random.choice([-1, 1], size=n).astype(np.int64)\n",
    "    ts = t\n",
    "\n",
    "# Display event statistics\n",
    "print(f\"Event statistics:\")\n",
    "print(f\"  X range: [{xs.min()}, {xs.max()}]\")\n",
    "print(f\"  Y range: [{ys.min()}, {ys.max()}]\")\n",
    "print(f\"  Time range: [{ts.min():.3f}, {ts.max():.3f}]\")\n",
    "print(f\"  Positive events: {(ps > 0).sum()}\")\n",
    "print(f\"  Negative events: {(ps < 0).sum()}\")"
   ]
  },
  {
   "cell_type": "markdown",
   "metadata": {},
   "source": [
    "## 2. Basic Model Usage\n",
    "\n",
    "The simplest way to use a model is to instantiate it and call `reconstruct()`."
   ]
  },
  {
   "cell_type": "code",
   "execution_count": null,
   "metadata": {},
   "outputs": [],
   "source": [
    "# Create an E2VID model\n",
    "model = models.E2VID()\n",
    "print(f\"Created model: {model}\")\n",
    "\n",
    "# Reconstruct a frame\n",
    "frame = model.reconstruct((xs, ys, ts, ps))\n",
    "\n",
    "# Display the result\n",
    "plt.figure(figsize=(8, 6))\n",
    "plt.imshow(frame, cmap='gray')\n",
    "plt.colorbar()\n",
    "plt.title(\"E2VID Reconstruction\")\n",
    "plt.show()"
   ]
  },
  {
   "cell_type": "markdown",
   "metadata": {},
   "source": [
    "## 3. Comparing Different Models\n",
    "\n",
    "Let's compare the output of different reconstruction models."
   ]
  },
  {
   "cell_type": "code",
   "execution_count": null,
   "metadata": {},
   "outputs": [],
   "source": [
    "# Define models to compare\n",
    "models_to_compare = [\n",
    "    (\"E2VID (UNet)\", models.E2VID(variant=\"unet\")),\n",
    "    (\"FireNet\", models.FireNet()),\n",
    "    # (\"SPADE\", models.SPADE(variant=\"lite\")),\n",
    "    # (\"SSL\", models.SSL()),\n",
    "]\n",
    "\n",
    "# Reconstruct with each model\n",
    "fig, axes = plt.subplots(1, len(models_to_compare), figsize=(6*len(models_to_compare), 5))\n",
    "if len(models_to_compare) == 1:\n",
    "    axes = [axes]\n",
    "\n",
    "for ax, (name, model) in zip(axes, models_to_compare):\n",
    "    print(f\"Processing with {name}...\")\n",
    "    frame = model.reconstruct((xs, ys, ts, ps))\n",
    "    \n",
    "    if frame.ndim == 3:\n",
    "        frame = frame[-1]  # Take last frame if multiple\n",
    "        \n",
    "    im = ax.imshow(frame, cmap='gray')\n",
    "    ax.set_title(name)\n",
    "    ax.axis('off')\n",
    "    plt.colorbar(im, ax=ax, fraction=0.046)\n",
    "\n",
    "plt.tight_layout()\n",
    "plt.show()"
   ]
  },
  {
   "cell_type": "markdown",
   "metadata": {},
   "source": [
    "## 4. Custom Model Configuration\n",
    "\n",
    "You can customize model behavior using `ModelConfig`."
   ]
  },
  {
   "cell_type": "code",
   "execution_count": null,
   "metadata": {},
   "outputs": [],
   "source": [
    "# Create configurations with different settings\n",
    "configs = [\n",
    "    (\"Default\", models.ModelConfig()),\n",
    "    (\"High Resolution\", models.ModelConfig(base_channels=128, num_layers=5)),\n",
    "    (\"Fast\", models.ModelConfig(base_channels=32, num_layers=3)),\n",
    "    (\"More Time Bins\", models.ModelConfig(num_bins=10)),\n",
    "]\n",
    "\n",
    "# Compare results\n",
    "fig, axes = plt.subplots(2, 2, figsize=(12, 10))\n",
    "axes = axes.flatten()\n",
    "\n",
    "for ax, (name, config) in zip(axes, configs):\n",
    "    print(f\"Testing {name} configuration...\")\n",
    "    model = models.E2VID(config=config)\n",
    "    frame = model.reconstruct((xs, ys, ts, ps))\n",
    "    \n",
    "    im = ax.imshow(frame, cmap='gray')\n",
    "    ax.set_title(f\"{name}\\nChannels: {config.base_channels}, Bins: {config.num_bins}\")\n",
    "    ax.axis('off')\n",
    "    plt.colorbar(im, ax=ax, fraction=0.046)\n",
    "\n",
    "plt.tight_layout()\n",
    "plt.show()"
   ]
  },
  {
   "cell_type": "markdown",
   "metadata": {},
   "source": [
    "## 5. Temporal Models (E2VID+ and FireNet+)\n",
    "\n",
    "Temporal models can reconstruct multiple frames using ConvLSTM for temporal consistency."
   ]
  },
  {
   "cell_type": "code",
   "execution_count": null,
   "metadata": {},
   "outputs": [],
   "source": [
    "# Create temporal models\n",
    "e2vid_plus = models.E2VIDPlus()\n",
    "firenet_plus = models.FireNetPlus()\n",
    "\n",
    "# Reconstruct multiple frames\n",
    "num_frames = 5\n",
    "print(f\"Reconstructing {num_frames} frames...\")\n",
    "\n",
    "frames_e2vid = e2vid_plus.reconstruct((xs, ys, ts, ps), num_frames=num_frames)\n",
    "frames_firenet = firenet_plus.reconstruct((xs, ys, ts, ps), num_frames=num_frames)\n",
    "\n",
    "# Display temporal evolution\n",
    "fig, axes = plt.subplots(2, num_frames, figsize=(15, 6))\n",
    "\n",
    "for i in range(num_frames):\n",
    "    axes[0, i].imshow(frames_e2vid[i], cmap='gray')\n",
    "    axes[0, i].set_title(f\"E2VID+ t={i+1}\")\n",
    "    axes[0, i].axis('off')\n",
    "    \n",
    "    axes[1, i].imshow(frames_firenet[i], cmap='gray')\n",
    "    axes[1, i].set_title(f\"FireNet+ t={i+1}\")\n",
    "    axes[1, i].axis('off')\n",
    "\n",
    "plt.tight_layout()\n",
    "plt.show()"
   ]
  },
  {
   "cell_type": "markdown",
   "metadata": {},
   "source": [
    "## 6. Model Zoo Utilities\n",
    "\n",
    "The models module provides utilities for managing pre-trained models."
   ]
  },
  {
   "cell_type": "code",
   "execution_count": null,
   "metadata": {},
   "outputs": [],
   "source": [
    "# List available models\n",
    "print(\"Available models:\")\n",
    "for model_name in models.list_models():\n",
    "    print(f\"  - {model_name}\")\n",
    "\n",
    "print(\"\\n\" + \"=\"*50 + \"\\n\")\n",
    "\n",
    "# Get detailed information about models\n",
    "for model_name in [\"e2vid_unet\", \"firenet\", \"spade_e2vid\"]:\n",
    "    info = models.utils.get_model_info(model_name)\n",
    "    print(f\"{info['name']}:\")\n",
    "    print(f\"  Description: {info['description']}\")\n",
    "    print(f\"  Architecture: {info['architecture']}\")\n",
    "    print(f\"  Size: {info['size_mb']} MB\")\n",
    "    print()"
   ]
  },
  {
   "cell_type": "markdown",
   "metadata": {},
   "source": [
    "## 7. Pre-defined Configurations\n",
    "\n",
    "evlib provides several pre-defined configurations for common use cases."
   ]
  },
  {
   "cell_type": "code",
   "execution_count": null,
   "metadata": {},
   "outputs": [],
   "source": [
    "# Show available configurations\n",
    "config_names = ['default', 'high_res', 'fast', 'temporal', 'spade', 'ssl']\n",
    "\n",
    "print(\"Pre-defined configurations:\")\n",
    "print(\"-\" * 60)\n",
    "print(f\"{'Name':<15} {'Channels':<10} {'Layers':<10} {'Bins':<10} {'Extra':<20}\")\n",
    "print(\"-\" * 60)\n",
    "\n",
    "for name in config_names:\n",
    "    config = models.config.get_config(name)\n",
    "    extra = str(list(config.extra_params.keys()))[:20] if config.extra_params else \"-\"\n",
    "    print(f\"{name:<15} {config.base_channels:<10} {config.num_layers:<10} {config.num_bins:<10} {extra:<20}\")"
   ]
  },
  {
   "cell_type": "markdown",
   "metadata": {},
   "source": [
    "## 8. Advanced Usage: Event Stream Processing\n",
    "\n",
    "For processing continuous event streams, you can use the models in a streaming fashion."
   ]
  },
  {
   "cell_type": "code",
   "execution_count": null,
   "metadata": {},
   "outputs": [],
   "source": [
    "# Simulate processing an event stream in chunks\n",
    "chunk_size = 2000\n",
    "n_chunks = len(xs) // chunk_size\n",
    "\n",
    "# Use FireNet for fast processing\n",
    "model = models.FireNet()\n",
    "\n",
    "# Process chunks and display\n",
    "fig, axes = plt.subplots(1, min(5, n_chunks), figsize=(15, 3))\n",
    "if n_chunks == 1:\n",
    "    axes = [axes]\n",
    "\n",
    "for i, ax in enumerate(axes[:min(5, n_chunks)]):\n",
    "    # Get chunk of events\n",
    "    start_idx = i * chunk_size\n",
    "    end_idx = (i + 1) * chunk_size\n",
    "    \n",
    "    chunk_xs = xs[start_idx:end_idx]\n",
    "    chunk_ys = ys[start_idx:end_idx]\n",
    "    chunk_ts = ts[start_idx:end_idx]\n",
    "    chunk_ps = ps[start_idx:end_idx]\n",
    "    \n",
    "    # Reconstruct\n",
    "    frame = model.reconstruct((chunk_xs, chunk_ys, chunk_ts, chunk_ps))\n",
    "    \n",
    "    # Display\n",
    "    ax.imshow(frame, cmap='gray')\n",
    "    ax.set_title(f\"Chunk {i+1}\\nt=[{chunk_ts[0]:.2f}, {chunk_ts[-1]:.2f}]\")\n",
    "    ax.axis('off')\n",
    "\n",
    "plt.tight_layout()\n",
    "plt.show()\n",
    "\n",
    "print(f\"Processed {min(5, n_chunks)} chunks of {chunk_size} events each\")"
   ]
  },
  {
   "cell_type": "markdown",
   "metadata": {},
   "source": [
    "## Summary\n",
    "\n",
    "The unified models API in evlib provides:\n",
    "\n",
    "1. **Simple Interface**: Just instantiate a model and call `reconstruct()`\n",
    "2. **Multiple Models**: E2VID, FireNet, SPADE, SSL, and their temporal variants\n",
    "3. **Flexible Configuration**: Customize models with `ModelConfig`\n",
    "4. **Pre-trained Weights**: Automatic downloading of pre-trained models\n",
    "5. **Temporal Processing**: E2VID+ and FireNet+ for multi-frame reconstruction\n",
    "6. **Model Zoo**: Utilities for managing and discovering models\n",
    "\n",
    "For more information, see the [evlib documentation](https://github.com/tallamjr/evlib)."
   ]
  }
 ],
 "metadata": {
  "kernelspec": {
   "display_name": "Python 3",
   "language": "python",
   "name": "python3"
  },
  "language_info": {
   "codemirror_mode": {
    "name": "ipython",
    "version": 3
   },
   "file_extension": ".py",
   "mimetype": "text/x-python",
   "name": "python",
   "nbconvert_exporter": "python",
   "pygments_lexer": "ipython3",
   "version": "3.9.0"
  }
 },
 "nbformat": 4,
 "nbformat_minor": 4
}
